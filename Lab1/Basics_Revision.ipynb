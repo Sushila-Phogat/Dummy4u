{
  "nbformat": 4,
  "nbformat_minor": 0,
  "metadata": {
    "colab": {
      "name": "Basics_Revision.ipynb",
      "provenance": [],
      "authorship_tag": "ABX9TyOofeYUQyJ9I9v+QU4MSwwR",
      "include_colab_link": true
    },
    "kernelspec": {
      "name": "python3",
      "display_name": "Python 3"
    }
  },
  "cells": [
    {
      "cell_type": "markdown",
      "metadata": {
        "id": "view-in-github",
        "colab_type": "text"
      },
      "source": [
        "<a href=\"https://colab.research.google.com/github/Sushila-Phogat/Dummy4u/blob/main/Lab1/Basics_Revision.ipynb\" target=\"_parent\"><img src=\"https://colab.research.google.com/assets/colab-badge.svg\" alt=\"Open In Colab\"/></a>"
      ]
    },
    {
      "cell_type": "markdown",
      "metadata": {
        "id": "9q_dUPj9h3rT"
      },
      "source": [
        "#Python Data Types"
      ]
    },
    {
      "cell_type": "code",
      "metadata": {
        "id": "SNrVX66Xgrgf",
        "colab": {
          "base_uri": "https://localhost:8080/",
          "height": 68
        },
        "outputId": "98ca6da7-83c0-4fd1-ee5a-3efdb9c6fdd4"
      },
      "source": [
        "#Python Numbers\n",
        "a = 5\n",
        "print(a, \"is of type\", type(a))\n",
        "\n",
        "a = 2.0\n",
        "print(a, \"is of type\", type(a))\n",
        "\n",
        "a = 1+2j\n",
        "print(a, \"is complex number?\", isinstance(1+2j,complex))"
      ],
      "execution_count": null,
      "outputs": [
        {
          "output_type": "stream",
          "text": [
            "5 is of type <class 'int'>\n",
            "2.0 is of type <class 'float'>\n",
            "(1+2j) is complex number? True\n"
          ],
          "name": "stdout"
        }
      ]
    },
    {
      "cell_type": "code",
      "metadata": {
        "id": "KqNNlCmPiwPC",
        "colab": {
          "base_uri": "https://localhost:8080/",
          "height": 340
        },
        "outputId": "792fdb9d-87e2-443a-a3af-776b14060d29"
      },
      "source": [
        "#Python List\n",
        "a = [5,10,15,20,25,30,35,40]\n",
        "\n",
        "print(\"list a is\",a)\n",
        "# a[2] = 15\n",
        "print(\"a[2] = \", a[2]) #Lists are mutable, meaning, value of elements of a list can be altered.\n",
        "\n",
        "# a[0:3] = [5, 10, 15]\n",
        "print(\"a[0:3] = \", a[0:3]) \n",
        "\n",
        "# a[5:] = [30, 35, 40]\n",
        "print(\"a[5:] = \", a[5:])\n",
        "\n",
        "#####Slicing##################\n",
        "nums = list(range(5))     # range is a built-in function that creates a list of integers\n",
        "print(nums)               # Prints \"[0, 1, 2, 3, 4]\"\n",
        "print(nums[2:4])          # Get a slice from index 2 to 4 (exclusive); prints \"[2, 3]\"\n",
        "print(nums[2:])           # Get a slice from index 2 to the end; prints \"[2, 3, 4]\"\n",
        "print(nums[:2])           # Get a slice from the start to index 2 (exclusive); prints \"[0, 1]\"\n",
        "print(nums[:])            # Get a slice of the whole list; prints \"[0, 1, 2, 3, 4]\"\n",
        "print(nums[:-1])          # Slice indices can be negative; prints \"[0, 1, 2, 3]\"\n",
        "nums[2:4] = [8, 9]        # Assign a new sublist to a slice\n",
        "print(nums)               # Prints \"[0, 1, 8, 9, 4]\"\n",
        "\n",
        "########normal functions################\n",
        "xs = [3, 1, 2]    # Create a list\n",
        "print(xs, xs[2])  # Prints \"[3, 1, 2] 2\"\n",
        "print(xs[-1])     # Negative indices count from the end of the list; prints \"2\"\n",
        "xs[2] = 'foo'     # Lists can contain elements of different types\n",
        "print(xs)         # Prints \"[3, 1, 'foo']\"\n",
        "xs.append('bar')  # Add a new element to the end of the list\n",
        "print(xs)         # Prints \"[3, 1, 'foo', 'bar']\"\n",
        "x = xs.pop()      # Remove and return the last element of the list\n",
        "print(x, xs)      # Prints \"bar [3, 1, 'foo']\"\n",
        "\n",
        "animals = ['cat', 'dog', 'monkey']\n",
        "for idx, animal in enumerate(animals):\n",
        "    print('#%d: %s' % (idx + 1, animal))\n",
        "# Prints \"#1: cat\", \"#2: dog\", \"#3: monkey\", each on its own line"
      ],
      "execution_count": null,
      "outputs": [
        {
          "output_type": "stream",
          "text": [
            "list a is [5, 10, 15, 20, 25, 30, 35, 40]\n",
            "a[2] =  15\n",
            "a[0:3] =  [5, 10, 15]\n",
            "a[5:] =  [30, 35, 40]\n",
            "[0, 1, 2, 3, 4]\n",
            "[2, 3]\n",
            "[2, 3, 4]\n",
            "[0, 1]\n",
            "[0, 1, 2, 3, 4]\n",
            "[0, 1, 2, 3]\n",
            "[0, 1, 8, 9, 4]\n",
            "[3, 1, 2] 2\n",
            "2\n",
            "[3, 1, 'foo']\n",
            "[3, 1, 'foo', 'bar']\n",
            "bar [3, 1, 'foo']\n",
            "#1: cat\n",
            "#2: dog\n",
            "#3: monkey\n"
          ],
          "name": "stdout"
        }
      ]
    },
    {
      "cell_type": "code",
      "metadata": {
        "id": "P8h6BTs3kPZ1",
        "colab": {
          "base_uri": "https://localhost:8080/",
          "height": 231
        },
        "outputId": "2419dab4-2b5c-4315-ccba-8befd1fb2a18"
      },
      "source": [
        "  #Python Tuple\n",
        "  ##Tuple is an ordered sequence of items same as list.The only difference is that tuples are immutable. Tuples once created cannot be modified.\n",
        "  ##Tuples are used to write-protect data and are usually faster than list as it cannot change dynamically.\n",
        "  ##It is defined within parentheses () where items are separated by commas.\n",
        "  t = (5,'program', 1+3j)\n",
        "\n",
        "# t[1] = 'program'\n",
        "print(\"t[1] = \", t[1])\n",
        "\n",
        "# t[0:3] = (5, 'program', (1+3j))\n",
        "print(\"t[0:3] = \", t[0:3])\n",
        "\n",
        "# Generates error\n",
        "# Tuples are immutable\n",
        "t[0] = 10"
      ],
      "execution_count": null,
      "outputs": [
        {
          "output_type": "stream",
          "text": [
            "t[1] =  program\n",
            "t[0:3] =  (5, 'program', (1+3j))\n"
          ],
          "name": "stdout"
        },
        {
          "output_type": "error",
          "ename": "TypeError",
          "evalue": "ignored",
          "traceback": [
            "\u001b[0;31m---------------------------------------------------------------------------\u001b[0m",
            "\u001b[0;31mTypeError\u001b[0m                                 Traceback (most recent call last)",
            "\u001b[0;32m<ipython-input-6-4413355158bb>\u001b[0m in \u001b[0;36m<module>\u001b[0;34m()\u001b[0m\n\u001b[1;32m      9\u001b[0m \u001b[0;31m# Generates error\u001b[0m\u001b[0;34m\u001b[0m\u001b[0;34m\u001b[0m\u001b[0;34m\u001b[0m\u001b[0m\n\u001b[1;32m     10\u001b[0m \u001b[0;31m# Tuples are immutable\u001b[0m\u001b[0;34m\u001b[0m\u001b[0;34m\u001b[0m\u001b[0;34m\u001b[0m\u001b[0m\n\u001b[0;32m---> 11\u001b[0;31m \u001b[0mt\u001b[0m\u001b[0;34m[\u001b[0m\u001b[0;36m0\u001b[0m\u001b[0;34m]\u001b[0m \u001b[0;34m=\u001b[0m \u001b[0;36m10\u001b[0m\u001b[0;34m\u001b[0m\u001b[0;34m\u001b[0m\u001b[0m\n\u001b[0m",
            "\u001b[0;31mTypeError\u001b[0m: 'tuple' object does not support item assignment"
          ]
        }
      ]
    },
    {
      "cell_type": "code",
      "metadata": {
        "id": "xpz_pCb3lQB4",
        "colab": {
          "base_uri": "https://localhost:8080/",
          "height": 231
        },
        "outputId": "b8c0a800-c6dd-4ebf-8ba4-aa5bbdd0ac92"
      },
      "source": [
        "#Python Strings\n",
        "##String is sequence of Unicode characters.\n",
        "## We can use single quotes or double quotes to represent strings. Multi-line strings can be denoted using triple quotes, ''' or \"\"\".\n",
        "##Like list and tuple, slicing operator [ ] can be used with string. Strings are immutable.\n",
        "s = 'Hello world!'\n",
        "\n",
        "# s[4] = 'o'\n",
        "print(\"s[4] = \", s[4])\n",
        "\n",
        "# s[6:11] = 'world'\n",
        "print(\"s[6:11] = \", s[6:11])\n",
        "\n",
        "# Generates error\n",
        "# Strings are immutable in Python\n",
        "s[5] ='d'"
      ],
      "execution_count": null,
      "outputs": [
        {
          "output_type": "stream",
          "text": [
            "s[4] =  o\n",
            "s[6:11] =  world\n"
          ],
          "name": "stdout"
        },
        {
          "output_type": "error",
          "ename": "TypeError",
          "evalue": "ignored",
          "traceback": [
            "\u001b[0;31m---------------------------------------------------------------------------\u001b[0m",
            "\u001b[0;31mTypeError\u001b[0m                                 Traceback (most recent call last)",
            "\u001b[0;32m<ipython-input-8-430a1bc5a714>\u001b[0m in \u001b[0;36m<module>\u001b[0;34m()\u001b[0m\n\u001b[1;32m      9\u001b[0m \u001b[0;31m# Generates error\u001b[0m\u001b[0;34m\u001b[0m\u001b[0;34m\u001b[0m\u001b[0;34m\u001b[0m\u001b[0m\n\u001b[1;32m     10\u001b[0m \u001b[0;31m# Strings are immutable in Python\u001b[0m\u001b[0;34m\u001b[0m\u001b[0;34m\u001b[0m\u001b[0;34m\u001b[0m\u001b[0m\n\u001b[0;32m---> 11\u001b[0;31m \u001b[0ms\u001b[0m\u001b[0;34m[\u001b[0m\u001b[0;36m5\u001b[0m\u001b[0;34m]\u001b[0m \u001b[0;34m=\u001b[0m\u001b[0;34m'd'\u001b[0m\u001b[0;34m\u001b[0m\u001b[0;34m\u001b[0m\u001b[0m\n\u001b[0m",
            "\u001b[0;31mTypeError\u001b[0m: 'str' object does not support item assignment"
          ]
        }
      ]
    },
    {
      "cell_type": "code",
      "metadata": {
        "id": "Vwwu5dSJjSIX",
        "colab": {
          "base_uri": "https://localhost:8080/",
          "height": 204
        },
        "outputId": "4ca8afdd-e451-484f-e526-6073c23dbe0f"
      },
      "source": [
        "#Python Set\n",
        "##Set is an unordered collection of unique items. Set is defined by values separated by comma inside braces { }. Items in a set are not ordered.\n",
        "a = {5,2,3,1,4}\n",
        "\n",
        "# printing set variable\n",
        "print(\"a = \", a)\n",
        "\n",
        "\n",
        "# data type of variable a\n",
        "print(type(a))\n",
        "\n",
        "#We can perform set operations like union, intersection on two sets. Set have unique values. They eliminate duplicates.\n",
        "a = {1,2,2,3,3,3}\n",
        "print(a)\n",
        "b={2,3,3,4,5}\n",
        "#union \n",
        "print(\"all points in a and b\",(a|b))\n",
        "# intersection\n",
        "print(\"common points in a and b\",(a&b))\n",
        "#different\n",
        "print(\"points in a but not in  b\",(a-b))\n",
        "print(a.difference(b))\n",
        "#Symmetric Difference -----Symmetric Difference of A and B is a set of elements in both A and B except those that are common in both.\n",
        "print(\"all points except common points in a and b\",(a^b))\n",
        "\n",
        "#Discard-----The discard() removes element x from the set if the element is present.\n",
        "numbers = {2, 3, 4, 5}\n",
        "\n",
        "numbers.discard(3)\n",
        "print('numbers = ', numbers)\n",
        "\n",
        "#Subset and Superset\n",
        "A = {1, 2, 3}\n",
        "B = {1, 2, 3, 4, 5}\n",
        "C = {1, 2, 4, 5}\n",
        "\n",
        "# Returns True\n",
        "print(A.issubset(B))\n",
        "print(B.issuperset(C))"
      ],
      "execution_count": null,
      "outputs": [
        {
          "output_type": "stream",
          "text": [
            "a =  {1, 2, 3, 4, 5}\n",
            "<class 'set'>\n",
            "{1, 2, 3}\n",
            "all points in a and b {1, 2, 3, 4, 5}\n",
            "common points in a and b {2, 3}\n",
            "points in a but not in  b {1}\n",
            "{1}\n",
            "all points except common points in a and b {1, 4, 5}\n",
            "numbers =  {2, 4, 5}\n",
            "True\n",
            "True\n"
          ],
          "name": "stdout"
        }
      ]
    },
    {
      "cell_type": "code",
      "metadata": {
        "id": "jf0AikW4yRKt",
        "colab": {
          "base_uri": "https://localhost:8080/",
          "height": 299
        },
        "outputId": "c6aa48e9-17cb-472c-a49d-2c3ea203c69d"
      },
      "source": [
        "#Python Dictionary\n",
        "###Dictionary is an unordered collection of key-value pairs.\n",
        "###It is generally used when we have a huge amount of data. Dictionaries are optimized for retrieving data. We must know the key to retrieve the value.\n",
        "d = {1:'value','key':2}\n",
        "print(type(d))\n",
        "\n",
        "print(\"d[1] = \", d[1]);\n",
        "\n",
        "print(\"d['key'] = \", d['key']);\n",
        "\n",
        "print(d.get('monkey', 'N/A'))  # Get an element with a default; prints \"N/A\"\n",
        "print(d.get(1))    # Get an element with a default; prints \"value\"\n",
        "del d['1']         # Remove an element from a dictionary\n",
        "print(d.get(1, 'N/A')) # \"1\" is no longer a key; prints \"N/A\""
      ],
      "execution_count": null,
      "outputs": [
        {
          "output_type": "stream",
          "text": [
            "<class 'dict'>\n",
            "d[1] =  value\n",
            "d['key'] =  2\n",
            "N/A\n",
            "value\n"
          ],
          "name": "stdout"
        },
        {
          "output_type": "error",
          "ename": "KeyError",
          "evalue": "ignored",
          "traceback": [
            "\u001b[0;31m---------------------------------------------------------------------------\u001b[0m",
            "\u001b[0;31mKeyError\u001b[0m                                  Traceback (most recent call last)",
            "\u001b[0;32m<ipython-input-31-6196d0877ca9>\u001b[0m in \u001b[0;36m<module>\u001b[0;34m()\u001b[0m\n\u001b[1;32m      8\u001b[0m \u001b[0mprint\u001b[0m\u001b[0;34m(\u001b[0m\u001b[0md\u001b[0m\u001b[0;34m.\u001b[0m\u001b[0mget\u001b[0m\u001b[0;34m(\u001b[0m\u001b[0;34m'monkey'\u001b[0m\u001b[0;34m,\u001b[0m \u001b[0;34m'N/A'\u001b[0m\u001b[0;34m)\u001b[0m\u001b[0;34m)\u001b[0m  \u001b[0;31m# Get an element with a default; prints \"N/A\"\u001b[0m\u001b[0;34m\u001b[0m\u001b[0;34m\u001b[0m\u001b[0m\n\u001b[1;32m      9\u001b[0m \u001b[0mprint\u001b[0m\u001b[0;34m(\u001b[0m\u001b[0md\u001b[0m\u001b[0;34m.\u001b[0m\u001b[0mget\u001b[0m\u001b[0;34m(\u001b[0m\u001b[0;36m1\u001b[0m\u001b[0;34m)\u001b[0m\u001b[0;34m)\u001b[0m    \u001b[0;31m# Get an element with a default; prints \"value\"\u001b[0m\u001b[0;34m\u001b[0m\u001b[0;34m\u001b[0m\u001b[0m\n\u001b[0;32m---> 10\u001b[0;31m \u001b[0;32mdel\u001b[0m \u001b[0md\u001b[0m\u001b[0;34m[\u001b[0m\u001b[0;34m'1'\u001b[0m\u001b[0;34m]\u001b[0m         \u001b[0;31m# Remove an element from a dictionary\u001b[0m\u001b[0;34m\u001b[0m\u001b[0;34m\u001b[0m\u001b[0m\n\u001b[0m\u001b[1;32m     11\u001b[0m \u001b[0mprint\u001b[0m\u001b[0;34m(\u001b[0m\u001b[0md\u001b[0m\u001b[0;34m.\u001b[0m\u001b[0mget\u001b[0m\u001b[0;34m(\u001b[0m\u001b[0;36m1\u001b[0m\u001b[0;34m,\u001b[0m \u001b[0;34m'N/A'\u001b[0m\u001b[0;34m)\u001b[0m\u001b[0;34m)\u001b[0m \u001b[0;31m# \"1\" is no longer a key; prints \"N/A\"\u001b[0m\u001b[0;34m\u001b[0m\u001b[0;34m\u001b[0m\u001b[0m\n",
            "\u001b[0;31mKeyError\u001b[0m: '1'"
          ]
        }
      ]
    },
    {
      "cell_type": "code",
      "metadata": {
        "id": "dIduQxsP2pzI",
        "colab": {
          "base_uri": "https://localhost:8080/",
          "height": 51
        },
        "outputId": "65cfd3d4-6028-450c-cb22-2f4a87a2aceb"
      },
      "source": [
        "class Greeter(object):\n",
        "\n",
        "    # Constructor\n",
        "    def __init__(self, name):\n",
        "        self.name = name  # Create an instance variable\n",
        "\n",
        "    # Instance method\n",
        "    def greet(self, loud=False):\n",
        "        if loud:\n",
        "            print('HELLO, %s!' % self.name.upper())\n",
        "        else:\n",
        "            print('Hello, %s' % self.name)\n",
        "\n",
        "g = Greeter('Fred')  # Construct an instance of the Greeter class\n",
        "g.greet()            # Call an instance method; prints \"Hello, Fred\"\n",
        "g.greet(loud=True)   # Call an instance method; prints \"HELLO, FRED!\""
      ],
      "execution_count": null,
      "outputs": [
        {
          "output_type": "stream",
          "text": [
            "Hello, Fred\n",
            "HELLO, FRED!\n"
          ],
          "name": "stdout"
        }
      ]
    },
    {
      "cell_type": "markdown",
      "metadata": {
        "id": "SWQXTcXq3Ef6"
      },
      "source": [
        "#Numpy"
      ]
    },
    {
      "cell_type": "code",
      "metadata": {
        "id": "C0imugFL3DHw",
        "colab": {
          "base_uri": "https://localhost:8080/",
          "height": 629
        },
        "outputId": "5a9ac1f2-bd2d-4f61-db8b-2849721beab7"
      },
      "source": [
        "import numpy as np\n",
        "\n",
        "x = np.array([1, 2])   # Let numpy choose the datatype\n",
        "print(x.dtype)         # Prints \"int64\"\n",
        "\n",
        "x = np.array([1.0, 2])   # Let numpy choose the datatype\n",
        "print(x.dtype)             # Prints \"float64\"\n",
        "\n",
        "x = np.array([1, 2], dtype=np.int64)   # Force a particular datatype\n",
        "print(x.dtype)\n",
        "\n",
        "# Creating a rank 2 Array\n",
        "arr = np.array([[1, 2, 3],\n",
        "                [4, 5, 6]])\n",
        "print(\"Array with Rank 2: \\n\", arr)\n",
        " \n",
        "# Creating an array from tuple\n",
        "arr = np.array((1, 3, 2))\n",
        "print(\"\\nArray created using \" \"passed tuple:\\n\", arr)\n",
        "\n",
        "# indexing in numpy array\n",
        " \n",
        "# Initial Array\n",
        "arr = np.array([[-1, 2, 0, 4],\n",
        "                [4, -0.5, 6, 0],\n",
        "                [2.6, 0, 7, 8],\n",
        "                [3, -7, 4, 2.0]])\n",
        "print(\"Initial Array: \")\n",
        "print(arr)\n",
        " \n",
        "# Printing a range of Array\n",
        "# with the use of slicing method\n",
        "sliced_arr = arr[:2, ::2]\n",
        "print (\"Array with first 2 rows and\"\n",
        "    \" alternate columns(0 and 2):\\n\", sliced_arr)\n",
        " \n",
        "# Printing elements at\n",
        "# specific Indices\n",
        "Index_arr = arr[[1, 1, 0, 3], \n",
        "                [3, 2, 1, 0]]\n",
        "print (\"\\nElements at indices (1, 3), \"\n",
        "    \"(1, 2), (0, 1), (3, 0):\\n\", Index_arr)\n",
        "\n",
        "# sum of array elements\n",
        "# Performing Unary operations\n",
        "print (\"\\nSum of all array \"\n",
        "       \"elements: \", arr.sum(),np.sum(arr))\n",
        "\n",
        "# Transpose of Array\n",
        "# using In-built function 'T'\n",
        "print(\"\\nTranspose of Array: \")\n",
        "print(arr.T)\n",
        "\n",
        "x = np.array([[1,2],[3,4]])\n",
        "y = np.array([[5,6],[7,8]])\n",
        "\n",
        "v = np.array([9,10])\n",
        "w = np.array([11, 12])\n",
        "\n",
        "# Inner product of vectors; both produce 219\n",
        "print(v.dot(w))\n",
        "print(np.dot(v, w))\n",
        "\n",
        "# Matrix / vector product; both produce the rank 1 array [29 67]\n",
        "print(x.dot(v))\n",
        "print(np.dot(x, v))\n",
        "\n",
        "# Matrix / matrix product; both produce the rank 2 array\n",
        "# [[19 22]\n",
        "#  [43 50]]\n",
        "print(x.dot(y))\n",
        "print(np.dot(x, y))"
      ],
      "execution_count": null,
      "outputs": [
        {
          "output_type": "stream",
          "text": [
            "int64\n",
            "float64\n",
            "int64\n",
            "Array with Rank 2: \n",
            " [[1 2 3]\n",
            " [4 5 6]]\n",
            "\n",
            "Array created using passed tuple:\n",
            " [1 3 2]\n",
            "Initial Array: \n",
            "[[-1.   2.   0.   4. ]\n",
            " [ 4.  -0.5  6.   0. ]\n",
            " [ 2.6  0.   7.   8. ]\n",
            " [ 3.  -7.   4.   2. ]]\n",
            "Array with first 2 rows and alternate columns(0 and 2):\n",
            " [[-1.  0.]\n",
            " [ 4.  6.]]\n",
            "\n",
            "Elements at indices (1, 3), (1, 2), (0, 1), (3, 0):\n",
            " [0. 6. 2. 3.]\n",
            "\n",
            "Sum of all array elements:  34.1 34.1\n",
            "\n",
            "Transpose of Array: \n",
            "[[-1.   4.   2.6  3. ]\n",
            " [ 2.  -0.5  0.  -7. ]\n",
            " [ 0.   6.   7.   4. ]\n",
            " [ 4.   0.   8.   2. ]]\n",
            "219\n",
            "219\n",
            "[29 67]\n",
            "[29 67]\n",
            "[[19 22]\n",
            " [43 50]]\n",
            "[[19 22]\n",
            " [43 50]]\n"
          ],
          "name": "stdout"
        }
      ]
    },
    {
      "cell_type": "code",
      "metadata": {
        "id": "I0JOIk4OotUc",
        "colab": {
          "base_uri": "https://localhost:8080/",
          "height": 272
        },
        "outputId": "5b097f53-a8b0-4fd9-97c6-688844b7d18f"
      },
      "source": [
        "#some more functions of array\n",
        "x = np.array([[1,2],[3,4]])\n",
        "\n",
        "print(np.sum(x))  # Compute sum of all elements; prints \"10\"\n",
        "print(np.sum(x, axis=0))  # Compute sum of each column; prints \"[4 6]\"\n",
        "print(np.sum(x, axis=1))  # Compute sum of each row; prints \"[3 7]\"\n",
        "\n",
        "# Note that taking the transpose of a rank 1 array does nothing:\n",
        "v = np.array([1,2,3])\n",
        "print(v)    # Prints \"[1 2 3]\"\n",
        "print(v.T)  # Prints \"[1 2 3]\"\n",
        "\n",
        "\n",
        "# We will add the vector v to each row of the matrix x,\n",
        "# storing the result in the matrix y\n",
        "x = np.array([[1,2,3], [4,5,6], [7,8,9], [10, 11, 12]])\n",
        "v = np.array([1, 0, 1])\n",
        "y = x + v  # Add v to each row of x using broadcasting\n",
        "print(y)  # Prints \"[[ 2  2  4]\n",
        "          #          [ 5  5  7]\n",
        "          #          [ 8  8 10]\n",
        "          #          [11 11 13]]\"\n",
        "\n",
        "v = np.array([[1,2,3],[3,4,5]])  # v has shape (3,)\n",
        "w = np.array([4,5])    # w has shape (2,)\n",
        "print(np.reshape(v, (3, 2),order='C'))\n",
        "print(np.reshape(v, (3, 2),order='C')*w)"
      ],
      "execution_count": null,
      "outputs": [
        {
          "output_type": "stream",
          "text": [
            "10\n",
            "[4 6]\n",
            "[3 7]\n",
            "[1 2 3]\n",
            "[1 2 3]\n",
            "[[ 2  2  4]\n",
            " [ 5  5  7]\n",
            " [ 8  8 10]\n",
            " [11 11 13]]\n",
            "[[1 2]\n",
            " [3 3]\n",
            " [4 5]]\n",
            "[[ 4 10]\n",
            " [12 15]\n",
            " [16 25]]\n"
          ],
          "name": "stdout"
        }
      ]
    },
    {
      "cell_type": "code",
      "metadata": {
        "id": "4GFwVgZDE6kN",
        "colab": {
          "base_uri": "https://localhost:8080/",
          "height": 1000
        },
        "outputId": "0d3e648e-abe2-4f05-e88b-f3ffdf1eb96d"
      },
      "source": [
        "#Numpy All function with example\n",
        "\n",
        "import numpy as np \n",
        "\n",
        "##############Numpy.take()###############\n",
        "#array = np.arange(10).reshape(2, 5) \n",
        "array = [[5, 6, 2, 7, 1], \n",
        "         [4, 9, 2, 9, 3]] \n",
        "print(\"Original array : \\n\", array) \n",
        "  \n",
        "# indices = [0, 4] \n",
        "print(\"\\nTaking Indices\\n\", np.take(array, [0, 4])) \n",
        "  \n",
        "# indices = [0, 4] with axis = 1 \n",
        "print(\"\\nTaking Indices\\n\", np.take(array, [0, 4], axis = 1)) \n",
        "\n",
        "#################put\n",
        "\n",
        "a = np.arange(5) \n",
        "np.put(a, [0, 2], [-44, -55]) \n",
        "print(\"After put : \\n\", a) \n",
        "\n",
        "a = np.arange(5) \n",
        "np.put(a, 22, -5, mode='clip') \n",
        "print(\"After put : \\n\", a) \n",
        "\n",
        "###################*args and **kwargs\n",
        "# use of *args \n",
        "  \n",
        "args = [3, 8] \n",
        "a = list(range(*args)) \n",
        "print(\"use of args  : \\n   \", a) \n",
        "# use of **kwargs \n",
        "  \n",
        "def test_args_kwargs(in1, in2, in3): \n",
        "    print (\"in1:\", in1) \n",
        "    print (\"in2:\", in2) \n",
        "    print (\"in3:\", in3) \n",
        "      \n",
        "      \n",
        "kwargs = {\"in3\": 1, \"in2\": \"No.\",\"in1\":\"geeks\"} \n",
        "test_args_kwargs(**kwargs) \n",
        "\n",
        "###################np.apply_along_axis function\n",
        "np_array = np.array([[8,1,7], \n",
        "                         [4,3,9], \n",
        "                         [5,2,6]]) \n",
        "  \n",
        "print(np_array)\n",
        "# using pre-defined sorted function as 1D_func \n",
        "print(\"Sorted as per axis 1 : \\n\", np.apply_along_axis(sorted, 1, np_array)) \n",
        "  \n",
        "print(\"\\n\") \n",
        "  \n",
        "print(\"Sorted as per axis 0 : \\n\", np.apply_along_axis(sorted, 0, np_array)) \n",
        "print(np.sum(np_array,axis=1))\n",
        "\n",
        "#####################argmax and argmin\n",
        "\n",
        "# Working on 2D array \n",
        "array = np.arange(12).reshape(3, 4) \n",
        "print(\"INPUT ARRAY : \\n\", array) \n",
        "  \n",
        "# No axis mentioned, so works on entire array \n",
        "print(\"\\nMax element : \", np.argmax(array)) \n",
        "  \n",
        "# returning Indices of the max element \n",
        "# as per the indices \n",
        "print(\"\\nIndices of Max element : \", np.argmax(array, axis=0)) \n",
        "print(\"\\nIndices of Max element : \", np.argmin(array, axis=1)) \n",
        "\n",
        "\n",
        "###############amax and amin function\n",
        "arr = np.arange(8) \n",
        "print(\"arr : \", arr) \n",
        "print(\"Max of arr : \", np.amax(arr)) \n",
        "  \n",
        "# 2D array \n",
        "arr = np.arange(10).reshape(2, 5) \n",
        "print(\"\\narr : \", arr) \n",
        "  \n",
        "# Maximum of the flattened array \n",
        "print(\"\\nMax of arr, axis = None : \", np.amax(arr)) \n",
        "  \n",
        "# Maxima along the first axis \n",
        "# axis 0 means vertical \n",
        "print(\"Max of arr, axis = 0 : \", np.amax(arr, axis = 0)) \n",
        "  \n",
        "# Maxima along the second axis \n",
        "# axis 1 means horizontal \n",
        "print(\"Max of arr, axis = 1 : \", np.amax(arr, axis = 1)) \n",
        "print(\"Min of arr, axis = 1 : \", np.amin(arr, axis = 1)) \n",
        "\n",
        "##############masking as deletion and extract function\n",
        "arr = np.arange(5) \n",
        "print(\"Original array : \", arr) \n",
        "mask = np.ones(len(arr), dtype=bool) \n",
        "  \n",
        "# Equivalent to np.delete(arr, [0,2,4], axis=0) \n",
        "mask[[0,2]] = False\n",
        "print(\"\\nMask set as : \", mask) \n",
        "result = arr[mask] \n",
        "print(\"\\nDeletion Using a Boolean Mask : \", result)\n",
        "\n",
        "\n",
        "array = np.arange(10).reshape(5, 2) \n",
        "print(\"Original array : \\n\", array) \n",
        "  \n",
        "a = np.mod(array, 4) !=0\n",
        "# This will show element status of satisfying condition \n",
        "print(\"\\nArray Condition a : \\n\", a) \n",
        "  \n",
        "# This will return elements that satisy condition \"a\" condition \n",
        "print(\"\\nElements that satisfy condition a  : \\n\", np.extract(a, array))\n",
        "\n",
        "#############around\n",
        "\n",
        "in_array = [133 ,344, 437, 449, 12] \n",
        "print (\"\\nInput array : \\n\", in_array) \n",
        "  \n",
        "round_off_values = np.around(in_array, decimals = -2) \n",
        "print (\"\\nRounded values upto 2: \\n\", round_off_values)\n",
        "\n",
        "\n",
        "#################asmatrix\n",
        "# array-like input \n",
        "b = np.matrix([[5, 6, 7], [4, 6]]) \n",
        "print(\"Via array-like input : \\n\", b, \"\\n\") \n",
        "  \n",
        "c = np.asmatrix(b) \n",
        "b[0, 1] = 10\n",
        "print(\"c matrix : \\n\", c) \n",
        "\n",
        "########eye and ravel\n",
        "# 2x2 matrix with 1's on main diagnol \n",
        "b = np.eye(2, dtype = float) \n",
        "print(\"Matrix b : \\n\", b) \n",
        "  \n",
        "# matrix with R=4 C=5 and 1 on diagnol \n",
        "# below main diagnol \n",
        "a = np.eye(4, 5, k = -2) \n",
        "print(\"\\nMatrix a : \\n\", a)\n",
        "\n",
        "array = np.arange(15).reshape(3, 5) \n",
        "print(\"Original array : \\n\", array) \n",
        "  \n",
        "# Outpue comes like [ 0  1  2 ..., 12 13 14] \n",
        "# as it is a long output, so it is the way of \n",
        "# showing outptut in Python \n",
        "print(\"\\nravel() : \", array.ravel())\n",
        "\n",
        "#############np.random.rand for random no generation and np.random.randn for normal distribution\n",
        "\n",
        "array = np.random.rand(3, 4) \n",
        "print(\"\\n\\n2D Array filled with random values : \\n\", array)\n",
        "\n",
        "array = np.random.randn(5) \n",
        "print(\"1D Array filled with random values : \\n\", array)\n",
        "\n",
        "#######npv---net present value,   fv-future value\n",
        "\n",
        "a =  np.npv(0.281,[-100, 19, 49, 58, 200]) \n",
        "print(\"Net Present Value(npv) : \", a) \n",
        "\n",
        "\n",
        "###rate : [scalar or (M, )array] Rate of interest as decimal (not per cent) per period\n",
        "####nper : [scalar or (M, )array] total compounding periods\n",
        "####pmt : [scalar or (M, )array] fixed payment\n",
        "####pv : [scalar or (M, )array] present value\n",
        "\n",
        "##Future value after 10 years of saving $100 now,  \n",
        "##with an additional monthly savings of $100.  \n",
        "###Assume the interest rate is 5% (annually)  \n",
        "###compounded monthly ? \n",
        " \n",
        "#                 rate       np      pmt    pv \n",
        "Solution = np.fv(0.05/12, 10*12, -100, -100) \n",
        "  \n",
        "print(\"Solution : \", Solution) \n",
        "\n",
        "  \n",
        "##What is the present value (e.g., the initial investment) \n",
        "###of an investment that needs to total $15692.93 after 10 \n",
        "###years of saving $100 every month?  \n",
        "##Assume the interest rate is 5% (annually) compounded monthly. \n",
        "\n",
        "  \n",
        "#                 rate        np       pmt   fv \n",
        "Solution = np.pv(0.05/12, 10*12, -100, 15692.93) \n",
        "  \n",
        "print(\"present value (pv) : \", Solution) "
      ],
      "execution_count": null,
      "outputs": [
        {
          "output_type": "stream",
          "text": [
            "Original array : \n",
            " [[5, 6, 2, 7, 1], [4, 9, 2, 9, 3]]\n",
            "\n",
            "Taking Indices\n",
            " [5 1]\n",
            "\n",
            "Taking Indices\n",
            " [[5 1]\n",
            " [4 3]]\n",
            "After put : \n",
            " [-44   1 -55   3   4]\n",
            "After put : \n",
            " [ 0  1  2  3 -5]\n",
            "use of args  : \n",
            "    [3, 4, 5, 6, 7]\n",
            "in1: geeks\n",
            "in2: No.\n",
            "in3: 1\n",
            "[[8 1 7]\n",
            " [4 3 9]\n",
            " [5 2 6]]\n",
            "Sorted as per axis 1 : \n",
            " [[1 7 8]\n",
            " [3 4 9]\n",
            " [2 5 6]]\n",
            "\n",
            "\n",
            "Sorted as per axis 0 : \n",
            " [[4 1 6]\n",
            " [5 2 7]\n",
            " [8 3 9]]\n",
            "[16 16 13]\n",
            "INPUT ARRAY : \n",
            " [[ 0  1  2  3]\n",
            " [ 4  5  6  7]\n",
            " [ 8  9 10 11]]\n",
            "\n",
            "Max element :  11\n",
            "\n",
            "Indices of Max element :  [2 2 2 2]\n",
            "\n",
            "Indices of Max element :  [0 0 0]\n",
            "arr :  [0 1 2 3 4 5 6 7]\n",
            "Max of arr :  7\n",
            "\n",
            "arr :  [[0 1 2 3 4]\n",
            " [5 6 7 8 9]]\n",
            "\n",
            "Max of arr, axis = None :  9\n",
            "Max of arr, axis = 0 :  [5 6 7 8 9]\n",
            "Max of arr, axis = 1 :  [4 9]\n",
            "Min of arr, axis = 1 :  [0 5]\n",
            "Original array :  [0 1 2 3 4]\n",
            "\n",
            "Mask set as :  [False  True False  True  True]\n",
            "\n",
            "Deletion Using a Boolean Mask :  [1 3 4]\n",
            "Original array : \n",
            " [[0 1]\n",
            " [2 3]\n",
            " [4 5]\n",
            " [6 7]\n",
            " [8 9]]\n",
            "\n",
            "Array Condition a : \n",
            " [[False  True]\n",
            " [ True  True]\n",
            " [False  True]\n",
            " [ True  True]\n",
            " [False  True]]\n",
            "\n",
            "Elements that satisfy condition a  : \n",
            " [1 2 3 5 6 7 9]\n",
            "\n",
            "Input array : \n",
            " [133, 344, 437, 449, 12]\n",
            "\n",
            "Rounded values upto 2: \n",
            " [100 300 400 400   0]\n",
            "Via array-like input : \n",
            " [[list([5, 6, 7]) list([4, 6])]] \n",
            "\n",
            "c matrix : \n",
            " [[list([5, 6, 7]) 10]]\n",
            "Matrix b : \n",
            " [[1. 0.]\n",
            " [0. 1.]]\n",
            "\n",
            "Matrix a : \n",
            " [[0. 0. 0. 0. 0.]\n",
            " [0. 0. 0. 0. 0.]\n",
            " [1. 0. 0. 0. 0.]\n",
            " [0. 1. 0. 0. 0.]]\n",
            "Original array : \n",
            " [[ 0  1  2  3  4]\n",
            " [ 5  6  7  8  9]\n",
            " [10 11 12 13 14]]\n",
            "\n",
            "ravel() :  [ 0  1  2  3  4  5  6  7  8  9 10 11 12 13 14]\n",
            "\n",
            "\n",
            "2D Array filled with random values : \n",
            " [[0.22708431 0.17893755 0.27935039 0.04061281]\n",
            " [0.81358373 0.25760104 0.94280795 0.26693056]\n",
            " [0.10530965 0.20548347 0.69559781 0.73238951]]\n",
            "1D Array filled with random values : \n",
            " [-0.75003822 -0.92824511 -0.17922498  0.80930409  2.96295385]\n",
            "Net Present Value(npv) :  46.55797923648\n",
            "Solution :  15692.928894335748\n",
            "present value (pv) :  -100.00067131625819\n"
          ],
          "name": "stdout"
        },
        {
          "output_type": "stream",
          "text": [
            "/usr/local/lib/python3.6/dist-packages/ipykernel_launcher.py:161: DeprecationWarning: numpy.npv is deprecated and will be removed from NumPy 1.20. Use numpy_financial.npv instead (https://pypi.org/project/numpy-financial/).\n",
            "/usr/local/lib/python3.6/dist-packages/ipykernel_launcher.py:176: DeprecationWarning: numpy.fv is deprecated and will be removed from NumPy 1.20. Use numpy_financial.fv instead (https://pypi.org/project/numpy-financial/).\n",
            "/usr/local/lib/python3.6/dist-packages/ipykernel_launcher.py:188: DeprecationWarning: numpy.pv is deprecated and will be removed from NumPy 1.20. Use numpy_financial.pv instead (https://pypi.org/project/numpy-financial/).\n"
          ],
          "name": "stderr"
        }
      ]
    },
    {
      "cell_type": "markdown",
      "metadata": {
        "id": "4UuDff2kAbkx"
      },
      "source": [
        "# matplotlib"
      ]
    },
    {
      "cell_type": "code",
      "metadata": {
        "id": "E_GAfXR6AERQ",
        "colab": {
          "base_uri": "https://localhost:8080/",
          "height": 354
        },
        "outputId": "a99c5b89-7ccc-47d5-f1d9-099dd3e36018"
      },
      "source": [
        "import matplotlib.pyplot as plt\n",
        "from matplotlib.pyplot import imread,imsave\n",
        "\n",
        "# Read an JPEG image into a numpy array\n",
        "img = imread('cat.jpg')\n",
        "print(img.dtype, img.shape)  # Prints \"uint8  (1327, 1339, 3)\n",
        "plt.subplot(1,2, 1)\n",
        "plt.imshow((img))\n",
        "plt.show()\n",
        "# Resize the tinted image to be 300 by 300 pixels.\n",
        "#img_tinted = imresize(img_tinted, (300, 300))\n",
        "\n",
        "img_tinted = np.array(Image.fromarray(img).resize((300, int(300))))\n",
        "\n",
        "# Write the tinted image back to disk\n",
        "imsave('cat_tinted.jpg', img_tinted)\n",
        "\n",
        "plt.subplot(2, 2, 2)\n",
        "plt.imshow(np.uint8(img_tinted))\n",
        "plt.show()"
      ],
      "execution_count": null,
      "outputs": [
        {
          "output_type": "stream",
          "text": [
            "uint8 (1327, 1339, 3)\n"
          ],
          "name": "stdout"
        },
        {
          "output_type": "display_data",
          "data": {
            "image/png": "[encoded data removed]",
            "text/plain": [
              "<Figure size 432x288 with 1 Axes>"
            ]
          },
          "metadata": {
            "tags": []
          }
        },
        {
          "output_type": "display_data",
          "data": {
            "image/png": "[encoded data removed]",
            "text/plain": [
              "<Figure size 432x288 with 1 Axes>"
            ]
          },
          "metadata": {
            "tags": []
          }
        }
      ]
    },
    {
      "cell_type": "code",
      "metadata": {
        "id": "SRRni4t7RSfJ",
        "colab": {
          "base_uri": "https://localhost:8080/",
          "height": 295
        },
        "outputId": "a410ec11-9155-463b-e032-ab2e495a9f0d"
      },
      "source": [
        "import numpy as np\n",
        "import matplotlib.pyplot as plt\n",
        "\n",
        "# Compute the x and y coordinates for points on sine and cosine curves\n",
        "x = np.arange(0, 3 * np.pi, 0.1)\n",
        "y_sin = np.sin(x)\n",
        "y_cos = np.cos(x)\n",
        "\n",
        "# Set up a subplot grid that has height 2 and width 1,\n",
        "# and set the first such subplot as active.\n",
        "plt.subplot(2, 1, 1)\n",
        "\n",
        "# Make the first plot\n",
        "plt.plot(x, y_sin)\n",
        "plt.xlabel('x axis label')\n",
        "plt.ylabel('y axis label')\n",
        "plt.title('Sine')\n",
        "plt.legend(['Sine'])\n",
        "\n",
        "# Set the second subplot as active, and make the second plot.\n",
        "plt.subplot(2, 1, 2)\n",
        "plt.plot(x, y_cos)\n",
        "plt.title('Cosine')\n",
        "\n",
        "plt.xlabel('x axis label')\n",
        "plt.ylabel('y axis label')\n",
        "plt.legend([ 'Cosine'])\n",
        "\n",
        "# Show the figure.\n",
        "plt.show()"
      ],
      "execution_count": null,
      "outputs": [
        {
          "output_type": "display_data",
          "data": {
            "image/png": "[encoded data removed]",
            "text/plain": [
              "<Figure size 432x288 with 2 Axes>"
            ]
          },
          "metadata": {
            "tags": []
          }
        }
      ]
    },
    {
      "cell_type": "code",
      "metadata": {
        "id": "SYpknTphSF8T",
        "colab": {
          "base_uri": "https://localhost:8080/",
          "height": 119
        },
        "outputId": "18a4870b-141d-4806-b8ef-de875e091039"
      },
      "source": [
        "import numpy as np\n",
        "from scipy.spatial.distance import pdist, squareform\n",
        "\n",
        "# Create the following array where each row is a point in 2D space:\n",
        "# [[0 1]\n",
        "#  [1 0]\n",
        "#  [2 0]]\n",
        "x = np.array([[0, 1], [1, 0], [2, 0]])\n",
        "print(x)\n",
        "\n",
        "# Compute the Euclidean distance between all rows of x.\n",
        "# d[i, j] is the Euclidean distance between x[i, :] and x[j, :],\n",
        "# and d is the following array:\n",
        "# [[ 0.          1.41421356  2.23606798]\n",
        "#  [ 1.41421356  0.          1.        ]\n",
        "#  [ 2.23606798  1.          0.        ]]\n",
        "d = squareform(pdist(x, 'euclidean'))\n",
        "print(d)"
      ],
      "execution_count": null,
      "outputs": [
        {
          "output_type": "stream",
          "text": [
            "[[0 1]\n",
            " [1 0]\n",
            " [2 0]]\n",
            "[[0.         1.41421356 2.23606798]\n",
            " [1.41421356 0.         1.        ]\n",
            " [2.23606798 1.         0.        ]]\n"
          ],
          "name": "stdout"
        }
      ]
    },
    {
      "cell_type": "code",
      "metadata": {
        "id": "ovLKXgxcPBFi",
        "colab": {
          "base_uri": "https://localhost:8080/",
          "height": 68
        },
        "outputId": "d882d02d-a033-41df-dfaf-f32139fa4940"
      },
      "source": [
        "###########common elements in two array\n",
        "import numpy as np\n",
        "a=np.array(np.arange(6)).reshape(2,3)\n",
        "print(a)\n",
        "a=a.ravel()\n",
        "b=np.array([[2,3,1],[8,4,9]])\n",
        "b=b.ravel()\n",
        "print(np.intersect1d(a,b))"
      ],
      "execution_count": null,
      "outputs": [
        {
          "output_type": "stream",
          "text": [
            "[[0 1 2]\n",
            " [3 4 5]]\n",
            "[1 2 3 4]\n"
          ],
          "name": "stdout"
        }
      ]
    }
  ]
}