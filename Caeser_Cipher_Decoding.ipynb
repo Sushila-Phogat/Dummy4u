{
  "nbformat": 4,
  "nbformat_minor": 0,
  "metadata": {
    "colab": {
      "name": "Untitled36.ipynb",
      "provenance": [],
      "authorship_tag": "ABX9TyNw8+tUulU0iZmbj6uJsDnj",
      "include_colab_link": true
    },
    "kernelspec": {
      "name": "python3",
      "display_name": "Python 3"
    }
  },
  "cells": [
    {
      "cell_type": "markdown",
      "metadata": {
        "id": "view-in-github",
        "colab_type": "text"
      },
      "source": [
        "<a href=\"https://colab.research.google.com/github/Sushila-Phogat/Dummy4u/blob/main/Caeser_Cipher_Decoding.ipynb\" target=\"_parent\"><img src=\"https://colab.research.google.com/assets/colab-badge.svg\" alt=\"Open In Colab\"/></a>"
      ]
    },
    {
      "cell_type": "markdown",
      "metadata": {
        "id": "y9Sk1_WoPRQk"
      },
      "source": [
        "#Caesar Cipher Decoding\r\n",
        "##Finding out Caesar Cipher relation in any number of given strings"
      ]
    },
    {
      "cell_type": "code",
      "metadata": {
        "colab": {
          "base_uri": "https://localhost:8080/"
        },
        "id": "pxHUpkKwPODU",
        "outputId": "a5d16d65-1410-4019-d317-f8dbab116b7b"
      },
      "source": [
        "import string\r\n",
        "import numpy as np\r\n",
        "lst=[]\r\n",
        "inp2=[]\r\n",
        "pos=[]\r\n",
        "diff=[]\r\n",
        "fnl=[]\r\n",
        "inp=int(input())\r\n",
        "for i in range(inp):\r\n",
        "  tem=input()\r\n",
        "  inp2.append(tem)\r\n",
        "\r\n",
        "pos = [[0] * (len(inp2)) for i in range(inp)]\r\n",
        "diff = [[0] * (len(inp2)) for i in range(inp-1)]\r\n",
        "\r\n",
        "if all(len(ele)==len(inp2[0]) for ele in inp2):\r\n",
        "  for i in range(len(inp2)):\r\n",
        "    for j in range(len(inp2[0])):\r\n",
        "      a=string.ascii_lowercase.index((inp2[i][j]).lower())\r\n",
        "      pos[i][j]=(a)\r\n",
        "  for i in range(len(inp2)-1):\r\n",
        "    diff[i]=list(np.array(pos[i])-np.array(pos[i+1]))\r\n",
        "\r\n",
        "for i in range(len(diff)):\r\n",
        "  if (all(ele==diff[i][0] for ele in diff[i])):\r\n",
        "    fnl.append(abs(diff[i][0]))\r\n",
        "if (len(set(fnl))==1):\r\n",
        "  print(list(set(fnl))[0])\r\n",
        "else:\r\n",
        "  print(-1)"
      ],
      "execution_count": 1,
      "outputs": [
        {
          "output_type": "stream",
          "text": [
            "3\n",
            "ABC\n",
            "DEF\n",
            "GHI\n",
            "[[0, 1, 2], [3, 4, 5], [6, 7, 8]]\n",
            "[-3, -3, -3]\n",
            "[-3, -3, -3]\n",
            "[[0, 1, 2], [3, 4, 5], [6, 7, 8]]\n",
            "[[-3, -3, -3], [-3, -3, -3]]\n",
            "3\n"
          ],
          "name": "stdout"
        }
      ]
    }
  ]
}