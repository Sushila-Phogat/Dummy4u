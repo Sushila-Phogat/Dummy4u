{
  "nbformat": 4,
  "nbformat_minor": 0,
  "metadata": {
    "colab": {
      "name": "Untitled37.ipynb",
      "provenance": [],
      "authorship_tag": "ABX9TyOSuuKk3MlyNTKbqh4P8BET",
      "include_colab_link": true
    },
    "kernelspec": {
      "name": "python3",
      "display_name": "Python 3"
    }
  },
  "cells": [
    {
      "cell_type": "markdown",
      "metadata": {
        "id": "view-in-github",
        "colab_type": "text"
      },
      "source": [
        "<a href=\"https://colab.research.google.com/github/Sushila-Phogat/Dummy4u/blob/main/Chatbot.ipynb\" target=\"_parent\"><img src=\"https://colab.research.google.com/assets/colab-badge.svg\" alt=\"Open In Colab\"/></a>"
      ]
    },
    {
      "cell_type": "markdown",
      "metadata": {
        "id": "el9ImycqxMkx"
      },
      "source": [
        "#Chatbot"
      ]
    },
    {
      "cell_type": "code",
      "metadata": {
        "colab": {
          "base_uri": "https://localhost:8080/"
        },
        "id": "H4lni6Oc8OWh",
        "outputId": "aea82e9d-d63f-4d05-b89d-b12d2fb711c2"
      },
      "source": [
        "from nltk.chat.util import Chat, reflections \r\n",
        "  \r\n",
        "pairs =[ \r\n",
        "    ['my name is (.*)', ['Hello ! % 1']], \r\n",
        "    ['(hi|hello|hey|holla|hola)', ['Hey there !', 'Hi there !', 'Hey !']], \r\n",
        "    ['(.*) your name ?', ['My name is Sushila']], \r\n",
        "    ['(.*) do you do ?', ['I am enhancing my skills !']], \r\n",
        "    ['(.*) created you ?', ['Sushila created me using python and NLTK']] \r\n",
        "] \r\n",
        "  \r\n",
        "chat = Chat(pairs, reflections) \r\n",
        "chat.converse() "
      ],
      "execution_count": null,
      "outputs": [
        {
          "output_type": "stream",
          "text": [
            ">Hi\n",
            "Hey there !\n",
            ">What is your name?\n",
            "My name is Sushila\n"
          ],
          "name": "stdout"
        }
      ]
    }
  ]
}