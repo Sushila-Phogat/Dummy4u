{
  "nbformat": 4,
  "nbformat_minor": 0,
  "metadata": {
    "colab": {
      "name": "Untitled45.ipynb",
      "provenance": [],
      "authorship_tag": "ABX9TyMuYgXp0pOcOFwBvbMX0z4s",
      "include_colab_link": true
    },
    "kernelspec": {
      "name": "python3",
      "display_name": "Python 3"
    },
    "language_info": {
      "name": "python"
    }
  },
  "cells": [
    {
      "cell_type": "markdown",
      "metadata": {
        "id": "view-in-github",
        "colab_type": "text"
      },
      "source": [
        "<a href=\"https://colab.research.google.com/github/Sushila-Phogat/Dummy4u/blob/main/HackerRank_test.ipynb\" target=\"_parent\"><img src=\"https://colab.research.google.com/assets/colab-badge.svg\" alt=\"Open In Colab\"/></a>"
      ]
    },
    {
      "cell_type": "code",
      "metadata": {
        "colab": {
          "base_uri": "https://localhost:8080/"
        },
        "id": "J1H6r0vXpiFu",
        "outputId": "fe700b89-20bd-4e01-d92b-e4e7d0ab9632"
      },
      "source": [
        "\n",
        "#!/usr/bin/python3\n",
        "\n",
        "import numpy as np\n",
        "\n",
        "# Please do not change the below function name and parameters\n",
        "def get_histogram(arr):\n",
        "    mn=min(arr)\n",
        "    mx=max(arr)\n",
        "    ls=[]\n",
        "    for i in range(mn,mx+1,1):\n",
        "        ls.append(float(arr.count(i)))\n",
        "    return np.array(ls)    \n",
        "    pass\n",
        "\n",
        "\n",
        "arr=[13,16,22,26,14,13,21,26,28,25,15,5,11,23,16,26]\n",
        "\n",
        "arr\n",
        "\n"
      ],
      "execution_count": 5,
      "outputs": [
        {
          "output_type": "execute_result",
          "data": {
            "text/plain": [
              "[13, 16, 22, 26, 14, 13, 21, 26, 28, 25, 15, 5, 11, 23, 16, 26]"
            ]
          },
          "metadata": {
            "tags": []
          },
          "execution_count": 5
        }
      ]
    },
    {
      "cell_type": "code",
      "metadata": {
        "colab": {
          "base_uri": "https://localhost:8080/"
        },
        "id": "Fx-7gSTAUg9o",
        "outputId": "07a1e78a-5992-442f-d53c-dd0085233cf6"
      },
      "source": [
        "#Replace all ______ with rjust, ljust or center. \n",
        "\n",
        "thickness = int(input()) #This must be an odd number\n",
        "c = 'H'\n",
        "\n",
        "#Top Cone\n",
        "for i in range(thickness):\n",
        "    print((c*i).rjust(thickness-1)+c+(c*i).ljust(thickness-1))\n",
        "\n",
        "#Top Pillars\n",
        "for i in range(thickness+1):\n",
        "    print((c*thickness).center(thickness*2)+(c*thickness).center(thickness*6))\n",
        "\n",
        "#Middle Belt\n",
        "for i in range((thickness+1)//2):\n",
        "    print((c*thickness*5).center(thickness*6))    \n",
        "\n",
        "#Bottom Pillars\n",
        "for i in range(thickness+1):\n",
        "    print((c*thickness).center(thickness*2)+(c*thickness).center(thickness*6))    \n",
        "\n",
        "#Bottom Cone\n",
        "for i in range(thickness):\n",
        "    print(((c*(thickness-i-1)).rjust(thickness)+c+(c*(thickness-i-1)).ljust(thickness)).rjust(thickness*6))"
      ],
      "execution_count": 4,
      "outputs": [
        {
          "output_type": "stream",
          "text": [
            "5\n",
            "    H    \n",
            "   HHH   \n",
            "  HHHHH  \n",
            " HHHHHHH \n",
            "HHHHHHHHH\n",
            "  HHHHH               HHHHH             \n",
            "  HHHHH               HHHHH             \n",
            "  HHHHH               HHHHH             \n",
            "  HHHHH               HHHHH             \n",
            "  HHHHH               HHHHH             \n",
            "  HHHHH               HHHHH             \n",
            "  HHHHHHHHHHHHHHHHHHHHHHHHH   \n",
            "  HHHHHHHHHHHHHHHHHHHHHHHHH   \n",
            "  HHHHHHHHHHHHHHHHHHHHHHHHH   \n",
            "  HHHHH               HHHHH             \n",
            "  HHHHH               HHHHH             \n",
            "  HHHHH               HHHHH             \n",
            "  HHHHH               HHHHH             \n",
            "  HHHHH               HHHHH             \n",
            "  HHHHH               HHHHH             \n",
            "                    HHHHHHHHH \n",
            "                     HHHHHHH  \n",
            "                      HHHHH   \n",
            "                       HHH    \n",
            "                        H     \n"
          ],
          "name": "stdout"
        }
      ]
    },
    {
      "cell_type": "code",
      "metadata": {
        "id": "ZLYPmkzJa3t-"
      },
      "source": [
        "import textwrap\n",
        "\n",
        "def wrap(string, max_width):\n",
        "    wrapper = textwrap.TextWrapper(width=max_width)\n",
        "  \n",
        "    word_list = wrapper.wrap(text=string)\n",
        "    return \"\\n\".join(word_list)\n",
        "        \n",
        "     \n",
        "\n",
        "if __name__ == '__main__':\n",
        "    string, max_width = input(), int(input())\n",
        "    result = wrap(string, max_width)\n",
        "    print(result)"
      ],
      "execution_count": null,
      "outputs": []
    },
    {
      "cell_type": "code",
      "metadata": {
        "colab": {
          "base_uri": "https://localhost:8080/"
        },
        "id": "vXX5rEygg2qX",
        "outputId": "0d804dac-01cb-42ee-adf5-649a85a53138"
      },
      "source": [
        "# Enter your code here. Read input from STDIN. Print output to STDOUT\n",
        "\n",
        "M,N = input().split(\" \") #This must be an odd number\n",
        "M=int(M)\n",
        "N=int(N)\n",
        "c = '.|.'\n",
        "\n",
        "\n",
        "#Top Cone\n",
        "for i in range(M//2):\n",
        "  print((c*(2*i+1)).center(N,'-'))\n",
        "\n",
        "print(('WELCOME').center(N,'-'))   \n",
        "\n",
        "#Bottom Cone\n",
        "for i in range(M//2):\n",
        "  print((c*(2*((M//2)-i)-1)).center(N,'-'))"
      ],
      "execution_count": 3,
      "outputs": [
        {
          "output_type": "stream",
          "text": [
            "7 21\n",
            "---------.|.---------\n",
            "------.|..|..|.------\n",
            "---.|..|..|..|..|.---\n",
            "-------WELCOME-------\n",
            "---.|..|..|..|..|.---\n",
            "------.|..|..|.------\n",
            "---------.|.---------\n"
          ],
          "name": "stdout"
        }
      ]
    },
    {
      "cell_type": "code",
      "metadata": {
        "colab": {
          "base_uri": "https://localhost:8080/"
        },
        "id": "dOnNT8Ymh6qs",
        "outputId": "a9a225be-550b-4261-f008-d1be0f0be5cd"
      },
      "source": [
        "print(('WELCOME').center(27,'-'))"
      ],
      "execution_count": 6,
      "outputs": [
        {
          "output_type": "stream",
          "text": [
            "----------WELCOME----------\n"
          ],
          "name": "stdout"
        }
      ]
    },
    {
      "cell_type": "code",
      "metadata": {
        "colab": {
          "base_uri": "https://localhost:8080/"
        },
        "id": "NOi0D8Obi72g",
        "outputId": "35f545a2-4b71-4a51-8e0b-0fcb51ce8aec"
      },
      "source": [
        "\n",
        "for i in range(9//2):\n",
        "  print(('.|.'*(2*i+1)).center(27,'-'))"
      ],
      "execution_count": 16,
      "outputs": [
        {
          "output_type": "stream",
          "text": [
            "------------.|.------------\n",
            "---------.|..|..|.---------\n",
            "------.|..|..|..|..|.------\n",
            "---.|..|..|..|..|..|..|.---\n"
          ],
          "name": "stdout"
        }
      ]
    }
  ]
}