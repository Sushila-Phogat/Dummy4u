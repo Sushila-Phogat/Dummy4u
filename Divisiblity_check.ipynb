{
  "nbformat": 4,
  "nbformat_minor": 0,
  "metadata": {
    "colab": {
      "name": "Untitled37.ipynb",
      "provenance": [],
      "authorship_tag": "ABX9TyNk0QdHevRd2nnsewrr4swI",
      "include_colab_link": true
    },
    "kernelspec": {
      "name": "python3",
      "display_name": "Python 3"
    }
  },
  "cells": [
    {
      "cell_type": "markdown",
      "metadata": {
        "id": "view-in-github",
        "colab_type": "text"
      },
      "source": [
        "<a href=\"https://colab.research.google.com/github/Sushila-Phogat/Dummy4u/blob/main/Divisiblity_check.ipynb\" target=\"_parent\"><img src=\"https://colab.research.google.com/assets/colab-badge.svg\" alt=\"Open In Colab\"/></a>"
      ]
    },
    {
      "cell_type": "markdown",
      "metadata": {
        "id": "el9ImycqxMkx"
      },
      "source": [
        "#Min. digit divisible by three from input"
      ]
    },
    {
      "cell_type": "code",
      "metadata": {
        "colab": {
          "base_uri": "https://localhost:8080/"
        },
        "id": "PtHCdy5e2iuv",
        "outputId": "1f85d471-f96d-4abf-a983-7a883282faee"
      },
      "source": [
        "from more_itertools import powerset\r\n",
        "\r\n",
        "inp=input() # min. no of digits for checking divisiblity\r\n",
        "inp2=input() # digits separated by space\r\n",
        "l = list(map(int, inp2.split()))\r\n",
        "divs=[]\r\n",
        "for i in powerset(l):\r\n",
        "  if (((i[:])!=(0, )) and (len(i)>0)):\r\n",
        "    tmp=str()\r\n",
        "    for j in i:\r\n",
        "      tmp=str(j)+tmp\r\n",
        "    if ((int(tmp)%3==0) and len(str(abs(int(tmp))))==int(inp)):\r\n",
        "      divs.append(int(tmp))\r\n",
        "\r\n",
        "print(min(divs))\r\n",
        "\r\n",
        "\r\n"
      ],
      "execution_count": 25,
      "outputs": [
        {
          "output_type": "stream",
          "text": [
            "3\n",
            "6 7 5 3 2 9 8\n",
            "[6, 7, 5, 3, 2, 9, 8]\n",
            "237\n"
          ],
          "name": "stdout"
        }
      ]
    }
  ]
}